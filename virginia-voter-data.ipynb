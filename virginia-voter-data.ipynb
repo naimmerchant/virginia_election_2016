{
 "cells": [
  {
   "cell_type": "code",
   "execution_count": 32,
   "metadata": {},
   "outputs": [
    {
     "data": {
      "text/html": [
       "        <script type=\"text/javascript\">\n",
       "        window.PlotlyConfig = {MathJaxConfig: 'local'};\n",
       "        if (window.MathJax) {MathJax.Hub.Config({SVG: {font: \"STIX-Web\"}});}\n",
       "        if (typeof require !== 'undefined') {\n",
       "        require.undef(\"plotly\");\n",
       "        requirejs.config({\n",
       "            paths: {\n",
       "                'plotly': ['https://cdn.plot.ly/plotly-latest.min']\n",
       "            }\n",
       "        });\n",
       "        require(['plotly'], function(Plotly) {\n",
       "            window._Plotly = Plotly;\n",
       "        });\n",
       "        }\n",
       "        </script>\n",
       "        "
      ]
     },
     "metadata": {},
     "output_type": "display_data"
    }
   ],
   "source": [
    "from plotly.offline import download_plotlyjs, init_notebook_mode, plot, iplot\n",
    "init_notebook_mode(connected=True)\n",
    "\n",
    "import plotly.plotly as py\n",
    "import plotly.graph_objs as go\n",
    "from plotly.graph_objs import *\n",
    "\n",
    "import pandas as pd"
   ]
  },
  {
   "cell_type": "code",
   "execution_count": 33,
   "metadata": {},
   "outputs": [],
   "source": [
    "\n",
    "df0 = pd.read_csv('Virginia.csv')\n",
    "df1=df0[['county_name', 'jurisdiction', 'precinct', 'candidate', 'votes']]\n",
    "df1.loc[(df1['candidate']!='Hillary Clinton') & (df1['candidate']!='Donald Trump'), 'candidate']='Other'\n"
   ]
  },
  {
   "cell_type": "code",
   "execution_count": 34,
   "metadata": {},
   "outputs": [
    {
     "data": {
      "text/html": [
       "<div>\n",
       "<style scoped>\n",
       "    .dataframe tbody tr th:only-of-type {\n",
       "        vertical-align: middle;\n",
       "    }\n",
       "\n",
       "    .dataframe tbody tr th {\n",
       "        vertical-align: top;\n",
       "    }\n",
       "\n",
       "    .dataframe thead th {\n",
       "        text-align: right;\n",
       "    }\n",
       "</style>\n",
       "<table border=\"1\" class=\"dataframe\">\n",
       "  <thead>\n",
       "    <tr style=\"text-align: right;\">\n",
       "      <th></th>\n",
       "      <th>county_name</th>\n",
       "      <th>jurisdiction</th>\n",
       "      <th>precinct</th>\n",
       "      <th>candidate</th>\n",
       "      <th>votes</th>\n",
       "    </tr>\n",
       "  </thead>\n",
       "  <tbody>\n",
       "    <tr>\n",
       "      <th>0</th>\n",
       "      <td>Accomack County</td>\n",
       "      <td>ACCOMACK COUNTY</td>\n",
       "      <td># AB - Central Absentee Precinct</td>\n",
       "      <td>Hillary Clinton</td>\n",
       "      <td>784</td>\n",
       "    </tr>\n",
       "    <tr>\n",
       "      <th>1</th>\n",
       "      <td>Accomack County</td>\n",
       "      <td>ACCOMACK COUNTY</td>\n",
       "      <td># AB - Central Absentee Precinct</td>\n",
       "      <td>Other</td>\n",
       "      <td>32</td>\n",
       "    </tr>\n",
       "  </tbody>\n",
       "</table>\n",
       "</div>"
      ],
      "text/plain": [
       "       county_name     jurisdiction                          precinct  \\\n",
       "0  Accomack County  ACCOMACK COUNTY  # AB - Central Absentee Precinct   \n",
       "1  Accomack County  ACCOMACK COUNTY  # AB - Central Absentee Precinct   \n",
       "\n",
       "         candidate  votes  \n",
       "0  Hillary Clinton    784  \n",
       "1            Other     32  "
      ]
     },
     "execution_count": 34,
     "metadata": {},
     "output_type": "execute_result"
    }
   ],
   "source": [
    "df1.head(2)"
   ]
  },
  {
   "cell_type": "code",
   "execution_count": 35,
   "metadata": {},
   "outputs": [
    {
     "data": {
      "text/html": [
       "<div>\n",
       "<style scoped>\n",
       "    .dataframe tbody tr th:only-of-type {\n",
       "        vertical-align: middle;\n",
       "    }\n",
       "\n",
       "    .dataframe tbody tr th {\n",
       "        vertical-align: top;\n",
       "    }\n",
       "\n",
       "    .dataframe thead th {\n",
       "        text-align: right;\n",
       "    }\n",
       "</style>\n",
       "<table border=\"1\" class=\"dataframe\">\n",
       "  <thead>\n",
       "    <tr style=\"text-align: right;\">\n",
       "      <th></th>\n",
       "      <th></th>\n",
       "      <th></th>\n",
       "      <th></th>\n",
       "      <th>votes</th>\n",
       "    </tr>\n",
       "    <tr>\n",
       "      <th>county_name</th>\n",
       "      <th>jurisdiction</th>\n",
       "      <th>precinct</th>\n",
       "      <th>candidate</th>\n",
       "      <th></th>\n",
       "    </tr>\n",
       "  </thead>\n",
       "  <tbody>\n",
       "    <tr>\n",
       "      <th rowspan=\"6\" valign=\"top\">York County</th>\n",
       "      <th rowspan=\"6\" valign=\"top\">YORK COUNTY</th>\n",
       "      <th rowspan=\"3\" valign=\"top\">501 - TABB</th>\n",
       "      <th>Donald Trump</th>\n",
       "      <td>1705</td>\n",
       "    </tr>\n",
       "    <tr>\n",
       "      <th>Hillary Clinton</th>\n",
       "      <td>955</td>\n",
       "    </tr>\n",
       "    <tr>\n",
       "      <th>Other</th>\n",
       "      <td>179</td>\n",
       "    </tr>\n",
       "    <tr>\n",
       "      <th rowspan=\"3\" valign=\"top\">502 - BETHEL</th>\n",
       "      <th>Donald Trump</th>\n",
       "      <td>1496</td>\n",
       "    </tr>\n",
       "    <tr>\n",
       "      <th>Hillary Clinton</th>\n",
       "      <td>1184</td>\n",
       "    </tr>\n",
       "    <tr>\n",
       "      <th>Other</th>\n",
       "      <td>210</td>\n",
       "    </tr>\n",
       "  </tbody>\n",
       "</table>\n",
       "</div>"
      ],
      "text/plain": [
       "                                                       votes\n",
       "county_name jurisdiction precinct     candidate             \n",
       "York County YORK COUNTY  501 - TABB   Donald Trump      1705\n",
       "                                      Hillary Clinton    955\n",
       "                                      Other              179\n",
       "                         502 - BETHEL Donald Trump      1496\n",
       "                                      Hillary Clinton   1184\n",
       "                                      Other              210"
      ]
     },
     "execution_count": 35,
     "metadata": {},
     "output_type": "execute_result"
    }
   ],
   "source": [
    "df2=df1.groupby(['county_name', 'jurisdiction', 'precinct', 'candidate']).sum()\n",
    "df2.tail(6)"
   ]
  },
  {
   "cell_type": "code",
   "execution_count": 36,
   "metadata": {},
   "outputs": [
    {
     "data": {
      "text/html": [
       "<div>\n",
       "<style scoped>\n",
       "    .dataframe tbody tr th:only-of-type {\n",
       "        vertical-align: middle;\n",
       "    }\n",
       "\n",
       "    .dataframe tbody tr th {\n",
       "        vertical-align: top;\n",
       "    }\n",
       "\n",
       "    .dataframe thead tr th {\n",
       "        text-align: left;\n",
       "    }\n",
       "\n",
       "    .dataframe thead tr:last-of-type th {\n",
       "        text-align: right;\n",
       "    }\n",
       "</style>\n",
       "<table border=\"1\" class=\"dataframe\">\n",
       "  <thead>\n",
       "    <tr>\n",
       "      <th></th>\n",
       "      <th></th>\n",
       "      <th></th>\n",
       "      <th colspan=\"3\" halign=\"left\">votes</th>\n",
       "    </tr>\n",
       "    <tr>\n",
       "      <th></th>\n",
       "      <th></th>\n",
       "      <th>candidate</th>\n",
       "      <th>Donald Trump</th>\n",
       "      <th>Hillary Clinton</th>\n",
       "      <th>Other</th>\n",
       "    </tr>\n",
       "    <tr>\n",
       "      <th>county_name</th>\n",
       "      <th>jurisdiction</th>\n",
       "      <th>precinct</th>\n",
       "      <th></th>\n",
       "      <th></th>\n",
       "      <th></th>\n",
       "    </tr>\n",
       "  </thead>\n",
       "  <tbody>\n",
       "    <tr>\n",
       "      <th rowspan=\"5\" valign=\"top\">Accomack County</th>\n",
       "      <th rowspan=\"5\" valign=\"top\">ACCOMACK COUNTY</th>\n",
       "      <th># AB - Central Absentee Precinct</th>\n",
       "      <td>644</td>\n",
       "      <td>784</td>\n",
       "      <td>59</td>\n",
       "    </tr>\n",
       "    <tr>\n",
       "      <th>## Provisional</th>\n",
       "      <td>1</td>\n",
       "      <td>3</td>\n",
       "      <td>2</td>\n",
       "    </tr>\n",
       "    <tr>\n",
       "      <th>101 - CHINCOTEAGUE</th>\n",
       "      <td>1188</td>\n",
       "      <td>444</td>\n",
       "      <td>48</td>\n",
       "    </tr>\n",
       "    <tr>\n",
       "      <th>201 - ATLANTIC</th>\n",
       "      <td>553</td>\n",
       "      <td>175</td>\n",
       "      <td>22</td>\n",
       "    </tr>\n",
       "    <tr>\n",
       "      <th>202 - GREENBACKVILLE</th>\n",
       "      <td>697</td>\n",
       "      <td>302</td>\n",
       "      <td>31</td>\n",
       "    </tr>\n",
       "  </tbody>\n",
       "</table>\n",
       "</div>"
      ],
      "text/plain": [
       "                                                                        votes  \\\n",
       "candidate                                                        Donald Trump   \n",
       "county_name     jurisdiction    precinct                                        \n",
       "Accomack County ACCOMACK COUNTY # AB - Central Absentee Precinct          644   \n",
       "                                ## Provisional                              1   \n",
       "                                101 - CHINCOTEAGUE                       1188   \n",
       "                                201 - ATLANTIC                            553   \n",
       "                                202 - GREENBACKVILLE                      697   \n",
       "\n",
       "                                                                                  \\\n",
       "candidate                                                        Hillary Clinton   \n",
       "county_name     jurisdiction    precinct                                           \n",
       "Accomack County ACCOMACK COUNTY # AB - Central Absentee Precinct             784   \n",
       "                                ## Provisional                                 3   \n",
       "                                101 - CHINCOTEAGUE                           444   \n",
       "                                201 - ATLANTIC                               175   \n",
       "                                202 - GREENBACKVILLE                         302   \n",
       "\n",
       "                                                                        \n",
       "candidate                                                        Other  \n",
       "county_name     jurisdiction    precinct                                \n",
       "Accomack County ACCOMACK COUNTY # AB - Central Absentee Precinct    59  \n",
       "                                ## Provisional                       2  \n",
       "                                101 - CHINCOTEAGUE                  48  \n",
       "                                201 - ATLANTIC                      22  \n",
       "                                202 - GREENBACKVILLE                31  "
      ]
     },
     "execution_count": 36,
     "metadata": {},
     "output_type": "execute_result"
    }
   ],
   "source": [
    "df3=df2.unstack(level=-1)\n",
    "df3.head(5)"
   ]
  },
  {
   "cell_type": "code",
   "execution_count": 37,
   "metadata": {},
   "outputs": [
    {
     "data": {
      "text/html": [
       "<div>\n",
       "<style scoped>\n",
       "    .dataframe tbody tr th:only-of-type {\n",
       "        vertical-align: middle;\n",
       "    }\n",
       "\n",
       "    .dataframe tbody tr th {\n",
       "        vertical-align: top;\n",
       "    }\n",
       "\n",
       "    .dataframe thead tr th {\n",
       "        text-align: left;\n",
       "    }\n",
       "</style>\n",
       "<table border=\"1\" class=\"dataframe\">\n",
       "  <thead>\n",
       "    <tr>\n",
       "      <th></th>\n",
       "      <th>county_name</th>\n",
       "      <th>jurisdiction</th>\n",
       "      <th>precinct</th>\n",
       "      <th colspan=\"3\" halign=\"left\">votes</th>\n",
       "    </tr>\n",
       "    <tr>\n",
       "      <th>candidate</th>\n",
       "      <th></th>\n",
       "      <th></th>\n",
       "      <th></th>\n",
       "      <th>Donald Trump</th>\n",
       "      <th>Hillary Clinton</th>\n",
       "      <th>Other</th>\n",
       "    </tr>\n",
       "  </thead>\n",
       "  <tbody>\n",
       "    <tr>\n",
       "      <th>0</th>\n",
       "      <td>Accomack County</td>\n",
       "      <td>ACCOMACK COUNTY</td>\n",
       "      <td># AB - Central Absentee Precinct</td>\n",
       "      <td>644</td>\n",
       "      <td>784</td>\n",
       "      <td>59</td>\n",
       "    </tr>\n",
       "    <tr>\n",
       "      <th>1</th>\n",
       "      <td>Accomack County</td>\n",
       "      <td>ACCOMACK COUNTY</td>\n",
       "      <td>## Provisional</td>\n",
       "      <td>1</td>\n",
       "      <td>3</td>\n",
       "      <td>2</td>\n",
       "    </tr>\n",
       "    <tr>\n",
       "      <th>2</th>\n",
       "      <td>Accomack County</td>\n",
       "      <td>ACCOMACK COUNTY</td>\n",
       "      <td>101 - CHINCOTEAGUE</td>\n",
       "      <td>1188</td>\n",
       "      <td>444</td>\n",
       "      <td>48</td>\n",
       "    </tr>\n",
       "    <tr>\n",
       "      <th>3</th>\n",
       "      <td>Accomack County</td>\n",
       "      <td>ACCOMACK COUNTY</td>\n",
       "      <td>201 - ATLANTIC</td>\n",
       "      <td>553</td>\n",
       "      <td>175</td>\n",
       "      <td>22</td>\n",
       "    </tr>\n",
       "    <tr>\n",
       "      <th>4</th>\n",
       "      <td>Accomack County</td>\n",
       "      <td>ACCOMACK COUNTY</td>\n",
       "      <td>202 - GREENBACKVILLE</td>\n",
       "      <td>697</td>\n",
       "      <td>302</td>\n",
       "      <td>31</td>\n",
       "    </tr>\n",
       "  </tbody>\n",
       "</table>\n",
       "</div>"
      ],
      "text/plain": [
       "               county_name     jurisdiction                          precinct  \\\n",
       "candidate                                                                       \n",
       "0          Accomack County  ACCOMACK COUNTY  # AB - Central Absentee Precinct   \n",
       "1          Accomack County  ACCOMACK COUNTY                    ## Provisional   \n",
       "2          Accomack County  ACCOMACK COUNTY                101 - CHINCOTEAGUE   \n",
       "3          Accomack County  ACCOMACK COUNTY                    201 - ATLANTIC   \n",
       "4          Accomack County  ACCOMACK COUNTY              202 - GREENBACKVILLE   \n",
       "\n",
       "                 votes                        \n",
       "candidate Donald Trump Hillary Clinton Other  \n",
       "0                  644             784    59  \n",
       "1                    1               3     2  \n",
       "2                 1188             444    48  \n",
       "3                  553             175    22  \n",
       "4                  697             302    31  "
      ]
     },
     "execution_count": 37,
     "metadata": {},
     "output_type": "execute_result"
    }
   ],
   "source": [
    "df4=df3.reset_index()\n",
    "df4.head()"
   ]
  },
  {
   "cell_type": "code",
   "execution_count": 38,
   "metadata": {
    "scrolled": true
   },
   "outputs": [
    {
     "data": {
      "text/plain": [
       "Index(['Donald Trump', 'Hillary Clinton', 'Other'], dtype='object', name='candidate')"
      ]
     },
     "execution_count": 38,
     "metadata": {},
     "output_type": "execute_result"
    }
   ],
   "source": [
    "df4['votes'].columns"
   ]
  },
  {
   "cell_type": "code",
   "execution_count": 98,
   "metadata": {},
   "outputs": [],
   "source": [
    "df4['total']=df4['votes']['Donald Trump']+df4['votes']['Hillary Clinton']+df4['votes']['Other']"
   ]
  },
  {
   "cell_type": "code",
   "execution_count": 99,
   "metadata": {},
   "outputs": [
    {
     "data": {
      "text/plain": [
       "MultiIndex(levels=[['votes', 'precinct', 'jurisdiction', 'county_name', 'total', 'Clinton', 'Trump', 'Others'], ['Donald Trump', 'Hillary Clinton', 'Other', '']],\n",
       "           codes=[[3, 2, 1, 0, 0, 0, 4, 5, 6, 7], [3, 3, 3, 0, 1, 2, 3, 3, 3, 3]],\n",
       "           names=[None, 'candidate'])"
      ]
     },
     "execution_count": 99,
     "metadata": {},
     "output_type": "execute_result"
    }
   ],
   "source": [
    "df4.columns"
   ]
  },
  {
   "cell_type": "code",
   "execution_count": 100,
   "metadata": {},
   "outputs": [],
   "source": [
    "df4['Clinton'] = df4['votes']['Hillary Clinton'] / df4['total']"
   ]
  },
  {
   "cell_type": "code",
   "execution_count": 101,
   "metadata": {},
   "outputs": [],
   "source": [
    "df4['Trump'] = df4['votes']['Donald Trump'] / df4['total']"
   ]
  },
  {
   "cell_type": "code",
   "execution_count": 102,
   "metadata": {},
   "outputs": [],
   "source": [
    "df4['Others'] = df4['votes']['Other'] / df4['total']"
   ]
  },
  {
   "cell_type": "code",
   "execution_count": 103,
   "metadata": {},
   "outputs": [
    {
     "data": {
      "text/plain": [
       "MultiIndex(levels=[['votes', 'precinct', 'jurisdiction', 'county_name', 'total', 'Clinton', 'Trump', 'Others'], ['Donald Trump', 'Hillary Clinton', 'Other', '']],\n",
       "           codes=[[3, 2, 1, 0, 0, 0, 4, 5, 6, 7], [3, 3, 3, 0, 1, 2, 3, 3, 3, 3]],\n",
       "           names=[None, 'candidate'])"
      ]
     },
     "execution_count": 103,
     "metadata": {},
     "output_type": "execute_result"
    }
   ],
   "source": [
    "df4.columns"
   ]
  },
  {
   "cell_type": "code",
   "execution_count": 104,
   "metadata": {},
   "outputs": [
    {
     "data": {
      "text/plain": [
       "644"
      ]
     },
     "execution_count": 104,
     "metadata": {},
     "output_type": "execute_result"
    }
   ],
   "source": [
    "df4['votes']['Donald Trump'][0]"
   ]
  },
  {
   "cell_type": "code",
   "execution_count": 105,
   "metadata": {},
   "outputs": [
    {
     "data": {
      "text/plain": [
       "'ACCOMACK COUNTY'"
      ]
     },
     "execution_count": 105,
     "metadata": {},
     "output_type": "execute_result"
    }
   ],
   "source": [
    "df4['jurisdiction'][0]"
   ]
  },
  {
   "cell_type": "code",
   "execution_count": 106,
   "metadata": {},
   "outputs": [
    {
     "data": {
      "text/html": [
       "<div>\n",
       "<style scoped>\n",
       "    .dataframe tbody tr th:only-of-type {\n",
       "        vertical-align: middle;\n",
       "    }\n",
       "\n",
       "    .dataframe tbody tr th {\n",
       "        vertical-align: top;\n",
       "    }\n",
       "\n",
       "    .dataframe thead tr th {\n",
       "        text-align: left;\n",
       "    }\n",
       "</style>\n",
       "<table border=\"1\" class=\"dataframe\">\n",
       "  <thead>\n",
       "    <tr>\n",
       "      <th></th>\n",
       "      <th>county_name</th>\n",
       "      <th>jurisdiction</th>\n",
       "      <th>precinct</th>\n",
       "      <th colspan=\"3\" halign=\"left\">votes</th>\n",
       "      <th>total</th>\n",
       "      <th>Clinton</th>\n",
       "      <th>Trump</th>\n",
       "      <th>Others</th>\n",
       "    </tr>\n",
       "    <tr>\n",
       "      <th>candidate</th>\n",
       "      <th></th>\n",
       "      <th></th>\n",
       "      <th></th>\n",
       "      <th>Donald Trump</th>\n",
       "      <th>Hillary Clinton</th>\n",
       "      <th>Other</th>\n",
       "      <th></th>\n",
       "      <th></th>\n",
       "      <th></th>\n",
       "      <th></th>\n",
       "    </tr>\n",
       "  </thead>\n",
       "  <tbody>\n",
       "    <tr>\n",
       "      <th>0</th>\n",
       "      <td>Accomack County</td>\n",
       "      <td>ACCOMACK COUNTY</td>\n",
       "      <td># AB - Central Absentee Precinct</td>\n",
       "      <td>644</td>\n",
       "      <td>784</td>\n",
       "      <td>59</td>\n",
       "      <td>1487</td>\n",
       "      <td>0.527236</td>\n",
       "      <td>0.433087</td>\n",
       "      <td>0.039677</td>\n",
       "    </tr>\n",
       "    <tr>\n",
       "      <th>1</th>\n",
       "      <td>Accomack County</td>\n",
       "      <td>ACCOMACK COUNTY</td>\n",
       "      <td>## Provisional</td>\n",
       "      <td>1</td>\n",
       "      <td>3</td>\n",
       "      <td>2</td>\n",
       "      <td>6</td>\n",
       "      <td>0.500000</td>\n",
       "      <td>0.166667</td>\n",
       "      <td>0.333333</td>\n",
       "    </tr>\n",
       "    <tr>\n",
       "      <th>2</th>\n",
       "      <td>Accomack County</td>\n",
       "      <td>ACCOMACK COUNTY</td>\n",
       "      <td>101 - CHINCOTEAGUE</td>\n",
       "      <td>1188</td>\n",
       "      <td>444</td>\n",
       "      <td>48</td>\n",
       "      <td>1680</td>\n",
       "      <td>0.264286</td>\n",
       "      <td>0.707143</td>\n",
       "      <td>0.028571</td>\n",
       "    </tr>\n",
       "    <tr>\n",
       "      <th>3</th>\n",
       "      <td>Accomack County</td>\n",
       "      <td>ACCOMACK COUNTY</td>\n",
       "      <td>201 - ATLANTIC</td>\n",
       "      <td>553</td>\n",
       "      <td>175</td>\n",
       "      <td>22</td>\n",
       "      <td>750</td>\n",
       "      <td>0.233333</td>\n",
       "      <td>0.737333</td>\n",
       "      <td>0.029333</td>\n",
       "    </tr>\n",
       "    <tr>\n",
       "      <th>4</th>\n",
       "      <td>Accomack County</td>\n",
       "      <td>ACCOMACK COUNTY</td>\n",
       "      <td>202 - GREENBACKVILLE</td>\n",
       "      <td>697</td>\n",
       "      <td>302</td>\n",
       "      <td>31</td>\n",
       "      <td>1030</td>\n",
       "      <td>0.293204</td>\n",
       "      <td>0.676699</td>\n",
       "      <td>0.030097</td>\n",
       "    </tr>\n",
       "  </tbody>\n",
       "</table>\n",
       "</div>"
      ],
      "text/plain": [
       "               county_name     jurisdiction                          precinct  \\\n",
       "candidate                                                                       \n",
       "0          Accomack County  ACCOMACK COUNTY  # AB - Central Absentee Precinct   \n",
       "1          Accomack County  ACCOMACK COUNTY                    ## Provisional   \n",
       "2          Accomack County  ACCOMACK COUNTY                101 - CHINCOTEAGUE   \n",
       "3          Accomack County  ACCOMACK COUNTY                    201 - ATLANTIC   \n",
       "4          Accomack County  ACCOMACK COUNTY              202 - GREENBACKVILLE   \n",
       "\n",
       "                 votes                       total   Clinton     Trump  \\\n",
       "candidate Donald Trump Hillary Clinton Other                             \n",
       "0                  644             784    59  1487  0.527236  0.433087   \n",
       "1                    1               3     2     6  0.500000  0.166667   \n",
       "2                 1188             444    48  1680  0.264286  0.707143   \n",
       "3                  553             175    22   750  0.233333  0.737333   \n",
       "4                  697             302    31  1030  0.293204  0.676699   \n",
       "\n",
       "             Others  \n",
       "candidate            \n",
       "0          0.039677  \n",
       "1          0.333333  \n",
       "2          0.028571  \n",
       "3          0.029333  \n",
       "4          0.030097  "
      ]
     },
     "execution_count": 106,
     "metadata": {},
     "output_type": "execute_result"
    }
   ],
   "source": [
    "accomack=df4[df4['jurisdiction']=='ACCOMACK COUNTY']\n",
    "accomack.head(5)"
   ]
  },
  {
   "cell_type": "code",
   "execution_count": 107,
   "metadata": {},
   "outputs": [
    {
     "name": "stdout",
     "output_type": "stream",
     "text": [
      "501 - MAPPSVILLE\n"
     ]
    },
    {
     "data": {
      "text/plain": [
       "['803 - WACHAPREAGUE',\n",
       " '101 - CHINCOTEAGUE',\n",
       " '502 - RUE',\n",
       " '301 - NEW CHURCH',\n",
       " '901 - PAINTER',\n",
       " '501 - MAPPSVILLE',\n",
       " '201 - ATLANTIC',\n",
       " '402 - PARKSLEY']"
      ]
     },
     "execution_count": 107,
     "metadata": {},
     "output_type": "execute_result"
    }
   ],
   "source": [
    "precincts=list(accomack['precinct'].value_counts().index)\n",
    "print(precincts[5])\n",
    "precincts[:8]"
   ]
  },
  {
   "cell_type": "code",
   "execution_count": 108,
   "metadata": {},
   "outputs": [
    {
     "data": {
      "text/plain": [
       "[644,\n",
       " 1,\n",
       " 1188,\n",
       " 553,\n",
       " 697,\n",
       " 592,\n",
       " 342,\n",
       " 489,\n",
       " 153,\n",
       " 243,\n",
       " 119,\n",
       " 637,\n",
       " 221,\n",
       " 976,\n",
       " 369,\n",
       " 392,\n",
       " 349,\n",
       " 618]"
      ]
     },
     "execution_count": 108,
     "metadata": {},
     "output_type": "execute_result"
    }
   ],
   "source": [
    "list(accomack['votes']['Donald Trump'])"
   ]
  },
  {
   "cell_type": "code",
   "execution_count": 109,
   "metadata": {},
   "outputs": [],
   "source": [
    "color=['#122A7F','#008080','#92A5E8']"
   ]
  },
  {
   "cell_type": "code",
   "execution_count": 110,
   "metadata": {},
   "outputs": [
    {
     "data": {
      "application/vnd.plotly.v1+json": {
       "config": {
        "linkText": "Export to plot.ly",
        "plotlyServerURL": "https://plot.ly",
        "responsive": true,
        "showLink": false
       },
       "data": [
        {
         "marker": {
          "color": "#122A7F"
         },
         "name": "Trump",
         "type": "bar",
         "uid": "c0e78681-3a13-47b8-ab94-bb88e67a8cc3",
         "x": [
          "803 - WACHAPREAGUE",
          "101 - CHINCOTEAGUE",
          "502 - RUE",
          "301 - NEW CHURCH",
          "901 - PAINTER",
          "501 - MAPPSVILLE",
          "201 - ATLANTIC",
          "402 - PARKSLEY",
          "# AB - Central Absentee Precinct",
          "802 - MELFA",
          "403 - SAXIS",
          "401 - BLOXOM",
          "602 - TANGIER",
          "701 - NANDUA",
          "801 - BOBTOWN",
          "601 - ACCOMAC",
          "202 - GREENBACKVILLE",
          "## Provisional"
         ],
         "y": [
          0.43308675184936113,
          0.16666666666666666,
          0.7071428571428572,
          0.7373333333333333,
          0.6766990291262136,
          0.44245142002989535,
          0.6895161290322581,
          0.6644021739130435,
          0.765,
          0.3665158371040724,
          0.22840690978886757,
          0.5472508591065293,
          0.8735177865612648,
          0.5258620689655172,
          0.6212121212121212,
          0.4611764705882353,
          0.7036290322580645,
          0.36395759717314485
         ]
        },
        {
         "marker": {
          "color": "#008080"
         },
         "name": "Clinton",
         "type": "bar",
         "uid": "0510466c-4718-407b-938e-6a7add46e098",
         "x": [
          "803 - WACHAPREAGUE",
          "101 - CHINCOTEAGUE",
          "502 - RUE",
          "301 - NEW CHURCH",
          "901 - PAINTER",
          "501 - MAPPSVILLE",
          "201 - ATLANTIC",
          "402 - PARKSLEY",
          "# AB - Central Absentee Precinct",
          "802 - MELFA",
          "403 - SAXIS",
          "401 - BLOXOM",
          "602 - TANGIER",
          "701 - NANDUA",
          "801 - BOBTOWN",
          "601 - ACCOMAC",
          "202 - GREENBACKVILLE",
          "## Provisional"
         ],
         "y": [
          0.527236045729657,
          0.5,
          0.2642857142857143,
          0.23333333333333334,
          0.29320388349514565,
          0.5328849028400597,
          0.2842741935483871,
          0.296195652173913,
          0.21,
          0.5987933634992458,
          0.7389635316698656,
          0.4175257731958763,
          0.1067193675889328,
          0.43372844827586204,
          0.3400673400673401,
          0.5129411764705882,
          0.2782258064516129,
          0.6136631330977621
         ]
        }
       ],
       "layout": {
        "title": {
         "text": "Grouped bar chart"
        },
        "xaxis": {
         "title": {
          "text": "Candidates"
         }
        },
        "yaxis": {
         "title": {
          "text": "Number of Votes"
         }
        }
       }
      },
      "text/html": [
       "<div>\n",
       "        \n",
       "        \n",
       "            <div id=\"d53ac5e7-28dd-4bd9-ad8a-4cc0f5f4c92a\" class=\"plotly-graph-div\" style=\"height:525px; width:100%;\"></div>\n",
       "            <script type=\"text/javascript\">\n",
       "                require([\"plotly\"], function(Plotly) {\n",
       "                    window.PLOTLYENV=window.PLOTLYENV || {};\n",
       "                    window.PLOTLYENV.BASE_URL='https://plot.ly';\n",
       "                    \n",
       "                if (document.getElementById(\"d53ac5e7-28dd-4bd9-ad8a-4cc0f5f4c92a\")) {\n",
       "                    Plotly.newPlot(\n",
       "                        'd53ac5e7-28dd-4bd9-ad8a-4cc0f5f4c92a',\n",
       "                        [{\"marker\": {\"color\": \"#122A7F\"}, \"name\": \"Trump\", \"type\": \"bar\", \"uid\": \"8c17da3b-4856-45fb-ab34-8dd314635a69\", \"x\": [\"803 - WACHAPREAGUE\", \"101 - CHINCOTEAGUE\", \"502 - RUE\", \"301 - NEW CHURCH\", \"901 - PAINTER\", \"501 - MAPPSVILLE\", \"201 - ATLANTIC\", \"402 - PARKSLEY\", \"# AB - Central Absentee Precinct\", \"802 - MELFA\", \"403 - SAXIS\", \"401 - BLOXOM\", \"602 - TANGIER\", \"701 - NANDUA\", \"801 - BOBTOWN\", \"601 - ACCOMAC\", \"202 - GREENBACKVILLE\", \"## Provisional\"], \"y\": [0.43308675184936113, 0.16666666666666666, 0.7071428571428572, 0.7373333333333333, 0.6766990291262136, 0.44245142002989535, 0.6895161290322581, 0.6644021739130435, 0.765, 0.3665158371040724, 0.22840690978886757, 0.5472508591065293, 0.8735177865612648, 0.5258620689655172, 0.6212121212121212, 0.4611764705882353, 0.7036290322580645, 0.36395759717314485]}, {\"marker\": {\"color\": \"#008080\"}, \"name\": \"Clinton\", \"type\": \"bar\", \"uid\": \"1c57033c-63c4-4d2b-b5ef-89de256e52c7\", \"x\": [\"803 - WACHAPREAGUE\", \"101 - CHINCOTEAGUE\", \"502 - RUE\", \"301 - NEW CHURCH\", \"901 - PAINTER\", \"501 - MAPPSVILLE\", \"201 - ATLANTIC\", \"402 - PARKSLEY\", \"# AB - Central Absentee Precinct\", \"802 - MELFA\", \"403 - SAXIS\", \"401 - BLOXOM\", \"602 - TANGIER\", \"701 - NANDUA\", \"801 - BOBTOWN\", \"601 - ACCOMAC\", \"202 - GREENBACKVILLE\", \"## Provisional\"], \"y\": [0.527236045729657, 0.5, 0.2642857142857143, 0.23333333333333334, 0.29320388349514565, 0.5328849028400597, 0.2842741935483871, 0.296195652173913, 0.21, 0.5987933634992458, 0.7389635316698656, 0.4175257731958763, 0.1067193675889328, 0.43372844827586204, 0.3400673400673401, 0.5129411764705882, 0.2782258064516129, 0.6136631330977621]}],\n",
       "                        {\"title\": {\"text\": \"Grouped bar chart\"}, \"xaxis\": {\"title\": {\"text\": \"Candidates\"}}, \"yaxis\": {\"title\": {\"text\": \"Number of Votes\"}}},\n",
       "                        {\"showLink\": false, \"linkText\": \"Export to plot.ly\", \"plotlyServerURL\": \"https://plot.ly\", \"responsive\": true}\n",
       "                    ).then(function(){\n",
       "                            \n",
       "var gd = document.getElementById('d53ac5e7-28dd-4bd9-ad8a-4cc0f5f4c92a');\n",
       "var x = new MutationObserver(function (mutations, observer) {{\n",
       "        var display = window.getComputedStyle(gd).display;\n",
       "        if (!display || display === 'none') {{\n",
       "            console.log([gd, 'removed!']);\n",
       "            Plotly.purge(gd);\n",
       "            observer.disconnect();\n",
       "        }}\n",
       "}});\n",
       "\n",
       "// Listen for the removal of the full notebook cells\n",
       "var notebookContainer = gd.closest('#notebook-container');\n",
       "if (notebookContainer) {{\n",
       "    x.observe(notebookContainer, {childList: true});\n",
       "}}\n",
       "\n",
       "// Listen for the clearing of the current output cell\n",
       "var outputEl = gd.closest('.output');\n",
       "if (outputEl) {{\n",
       "    x.observe(outputEl, {childList: true});\n",
       "}}\n",
       "\n",
       "                        })\n",
       "                };\n",
       "                });\n",
       "            </script>\n",
       "        </div>"
      ]
     },
     "metadata": {},
     "output_type": "display_data"
    }
   ],
   "source": [
    "# Let's display that with plotly.\n",
    "\n",
    "mydata1 = go.Bar(x=list(accomack['precinct'].value_counts().index), \n",
    "                 y=list(accomack['Trump']), \n",
    "                 marker=dict(color='#122A7F'),\n",
    "                 name='Trump')\n",
    "mydata2 = go.Bar(x=list(accomack['precinct'].value_counts().index), \n",
    "                 y=list(accomack['Clinton']), \n",
    "                 marker=dict(color='#008080'),\n",
    "                 name='Clinton')\n",
    "\n",
    "mylayout = go.Layout(\n",
    "    title='Grouped bar chart',\n",
    "    xaxis=dict(title='Candidates'),\n",
    "    yaxis=dict(title='Number of Votes')    \n",
    ")\n",
    "fig = go.Figure(data=[mydata1, mydata2], layout=mylayout)\n",
    "iplot(fig)"
   ]
  },
  {
   "cell_type": "code",
   "execution_count": 141,
   "metadata": {},
   "outputs": [],
   "source": [
    "# Now turn that into a function.\n",
    "def juris_picker(juris_name):\n",
    "    juris_df=df4[df4['jurisdiction']==juris_name]\n",
    "    \n",
    "\n",
    "    mydata1 = go.Bar(y=list(juris_df['precinct'].value_counts().index), \n",
    "                     x=list(juris_df['Clinton']), \n",
    "                     marker=dict(color='blue'),\n",
    "                     name='Clinton',\n",
    "                     opacity=0.6,\n",
    "                     orientation='h')\n",
    "    mydata2 = go.Bar(y=list(juris_df['precinct'].value_counts().index), \n",
    "                     x=list(juris_df['Trump']), \n",
    "                     marker=dict(color='red'),\n",
    "                     opacity=0.6,\n",
    "                     name='Trump',\n",
    "                     orientation='h')\n",
    "    mydata3 = go.Bar(y=list(juris_df['precinct'].value_counts().index), \n",
    "                     x=list(juris_df['Others']), \n",
    "                     marker=dict(color='grey'),\n",
    "                     opacity=0.6,\n",
    "                     name='Other',\n",
    "                     orientation='h')\n",
    "\n",
    "    mylayout = go.Layout(\n",
    "        barmode='stack',\n",
    "        title='Votes (%) by candidate for: {}'.format(juris_name),\n",
    "        xaxis=dict(title='% of Vote'),\n",
    "        yaxis=go.layout.YAxis(\n",
    "            title='Precinct ID',\n",
    "            automargin=True,\n",
    "    ))\n",
    "    fig = go.Figure(data=[mydata1, mydata2, mydata3], layout=mylayout)\n",
    "    iplot(fig)"
   ]
  },
  {
   "cell_type": "code",
   "execution_count": 142,
   "metadata": {},
   "outputs": [
    {
     "data": {
      "application/vnd.plotly.v1+json": {
       "config": {
        "linkText": "Export to plot.ly",
        "plotlyServerURL": "https://plot.ly",
        "responsive": true,
        "showLink": false
       },
       "data": [
        {
         "marker": {
          "color": "blue"
         },
         "name": "Clinton",
         "opacity": 0.6,
         "orientation": "h",
         "type": "bar",
         "uid": "ffe0d4bd-4b8d-4d92-b34d-a11bca8a18a4",
         "x": [
          0.527236045729657,
          0.5,
          0.2642857142857143,
          0.23333333333333334,
          0.29320388349514565,
          0.5328849028400597,
          0.2842741935483871,
          0.296195652173913,
          0.21,
          0.5987933634992458,
          0.7389635316698656,
          0.4175257731958763,
          0.1067193675889328,
          0.43372844827586204,
          0.3400673400673401,
          0.5129411764705882,
          0.2782258064516129,
          0.6136631330977621
         ],
         "y": [
          "803 - WACHAPREAGUE",
          "101 - CHINCOTEAGUE",
          "502 - RUE",
          "301 - NEW CHURCH",
          "901 - PAINTER",
          "501 - MAPPSVILLE",
          "201 - ATLANTIC",
          "402 - PARKSLEY",
          "# AB - Central Absentee Precinct",
          "802 - MELFA",
          "403 - SAXIS",
          "401 - BLOXOM",
          "602 - TANGIER",
          "701 - NANDUA",
          "801 - BOBTOWN",
          "601 - ACCOMAC",
          "202 - GREENBACKVILLE",
          "## Provisional"
         ]
        },
        {
         "marker": {
          "color": "red"
         },
         "name": "Trump",
         "opacity": 0.6,
         "orientation": "h",
         "type": "bar",
         "uid": "c532e612-dd62-4f61-a39b-82565c94afe2",
         "x": [
          0.43308675184936113,
          0.16666666666666666,
          0.7071428571428572,
          0.7373333333333333,
          0.6766990291262136,
          0.44245142002989535,
          0.6895161290322581,
          0.6644021739130435,
          0.765,
          0.3665158371040724,
          0.22840690978886757,
          0.5472508591065293,
          0.8735177865612648,
          0.5258620689655172,
          0.6212121212121212,
          0.4611764705882353,
          0.7036290322580645,
          0.36395759717314485
         ],
         "y": [
          "803 - WACHAPREAGUE",
          "101 - CHINCOTEAGUE",
          "502 - RUE",
          "301 - NEW CHURCH",
          "901 - PAINTER",
          "501 - MAPPSVILLE",
          "201 - ATLANTIC",
          "402 - PARKSLEY",
          "# AB - Central Absentee Precinct",
          "802 - MELFA",
          "403 - SAXIS",
          "401 - BLOXOM",
          "602 - TANGIER",
          "701 - NANDUA",
          "801 - BOBTOWN",
          "601 - ACCOMAC",
          "202 - GREENBACKVILLE",
          "## Provisional"
         ]
        },
        {
         "marker": {
          "color": "grey"
         },
         "name": "Other",
         "opacity": 0.6,
         "orientation": "h",
         "type": "bar",
         "uid": "5c13b40e-2510-4e50-82d3-b94083055131",
         "x": [
          0.03967720242098184,
          0.3333333333333333,
          0.02857142857142857,
          0.029333333333333333,
          0.030097087378640777,
          0.02466367713004484,
          0.02620967741935484,
          0.03940217391304348,
          0.025,
          0.03469079939668175,
          0.03262955854126679,
          0.0352233676975945,
          0.019762845849802372,
          0.04040948275862069,
          0.03872053872053872,
          0.02588235294117647,
          0.018145161290322582,
          0.02237926972909305
         ],
         "y": [
          "803 - WACHAPREAGUE",
          "101 - CHINCOTEAGUE",
          "502 - RUE",
          "301 - NEW CHURCH",
          "901 - PAINTER",
          "501 - MAPPSVILLE",
          "201 - ATLANTIC",
          "402 - PARKSLEY",
          "# AB - Central Absentee Precinct",
          "802 - MELFA",
          "403 - SAXIS",
          "401 - BLOXOM",
          "602 - TANGIER",
          "701 - NANDUA",
          "801 - BOBTOWN",
          "601 - ACCOMAC",
          "202 - GREENBACKVILLE",
          "## Provisional"
         ]
        }
       ],
       "layout": {
        "barmode": "stack",
        "title": {
         "text": "Votes (%) by candidate for: ACCOMACK COUNTY"
        },
        "xaxis": {
         "title": {
          "text": "% of Vote"
         }
        },
        "yaxis": {
         "automargin": true,
         "title": {
          "text": "Precinct ID"
         }
        }
       }
      },
      "text/html": [
       "<div>\n",
       "        \n",
       "        \n",
       "            <div id=\"b95bcbb9-42bf-4ede-8c18-3dda25b6c17c\" class=\"plotly-graph-div\" style=\"height:525px; width:100%;\"></div>\n",
       "            <script type=\"text/javascript\">\n",
       "                require([\"plotly\"], function(Plotly) {\n",
       "                    window.PLOTLYENV=window.PLOTLYENV || {};\n",
       "                    window.PLOTLYENV.BASE_URL='https://plot.ly';\n",
       "                    \n",
       "                if (document.getElementById(\"b95bcbb9-42bf-4ede-8c18-3dda25b6c17c\")) {\n",
       "                    Plotly.newPlot(\n",
       "                        'b95bcbb9-42bf-4ede-8c18-3dda25b6c17c',\n",
       "                        [{\"marker\": {\"color\": \"blue\"}, \"name\": \"Clinton\", \"opacity\": 0.6, \"orientation\": \"h\", \"type\": \"bar\", \"uid\": \"4d5eb51a-c8b6-4224-b26e-1d05af8fba9b\", \"x\": [0.527236045729657, 0.5, 0.2642857142857143, 0.23333333333333334, 0.29320388349514565, 0.5328849028400597, 0.2842741935483871, 0.296195652173913, 0.21, 0.5987933634992458, 0.7389635316698656, 0.4175257731958763, 0.1067193675889328, 0.43372844827586204, 0.3400673400673401, 0.5129411764705882, 0.2782258064516129, 0.6136631330977621], \"y\": [\"803 - WACHAPREAGUE\", \"101 - CHINCOTEAGUE\", \"502 - RUE\", \"301 - NEW CHURCH\", \"901 - PAINTER\", \"501 - MAPPSVILLE\", \"201 - ATLANTIC\", \"402 - PARKSLEY\", \"# AB - Central Absentee Precinct\", \"802 - MELFA\", \"403 - SAXIS\", \"401 - BLOXOM\", \"602 - TANGIER\", \"701 - NANDUA\", \"801 - BOBTOWN\", \"601 - ACCOMAC\", \"202 - GREENBACKVILLE\", \"## Provisional\"]}, {\"marker\": {\"color\": \"red\"}, \"name\": \"Trump\", \"opacity\": 0.6, \"orientation\": \"h\", \"type\": \"bar\", \"uid\": \"0a46b546-1dfd-4171-bb70-8196dc3fc7ce\", \"x\": [0.43308675184936113, 0.16666666666666666, 0.7071428571428572, 0.7373333333333333, 0.6766990291262136, 0.44245142002989535, 0.6895161290322581, 0.6644021739130435, 0.765, 0.3665158371040724, 0.22840690978886757, 0.5472508591065293, 0.8735177865612648, 0.5258620689655172, 0.6212121212121212, 0.4611764705882353, 0.7036290322580645, 0.36395759717314485], \"y\": [\"803 - WACHAPREAGUE\", \"101 - CHINCOTEAGUE\", \"502 - RUE\", \"301 - NEW CHURCH\", \"901 - PAINTER\", \"501 - MAPPSVILLE\", \"201 - ATLANTIC\", \"402 - PARKSLEY\", \"# AB - Central Absentee Precinct\", \"802 - MELFA\", \"403 - SAXIS\", \"401 - BLOXOM\", \"602 - TANGIER\", \"701 - NANDUA\", \"801 - BOBTOWN\", \"601 - ACCOMAC\", \"202 - GREENBACKVILLE\", \"## Provisional\"]}, {\"marker\": {\"color\": \"grey\"}, \"name\": \"Other\", \"opacity\": 0.6, \"orientation\": \"h\", \"type\": \"bar\", \"uid\": \"3e4e64b3-cfa1-4b83-b9fd-b7e722dda004\", \"x\": [0.03967720242098184, 0.3333333333333333, 0.02857142857142857, 0.029333333333333333, 0.030097087378640777, 0.02466367713004484, 0.02620967741935484, 0.03940217391304348, 0.025, 0.03469079939668175, 0.03262955854126679, 0.0352233676975945, 0.019762845849802372, 0.04040948275862069, 0.03872053872053872, 0.02588235294117647, 0.018145161290322582, 0.02237926972909305], \"y\": [\"803 - WACHAPREAGUE\", \"101 - CHINCOTEAGUE\", \"502 - RUE\", \"301 - NEW CHURCH\", \"901 - PAINTER\", \"501 - MAPPSVILLE\", \"201 - ATLANTIC\", \"402 - PARKSLEY\", \"# AB - Central Absentee Precinct\", \"802 - MELFA\", \"403 - SAXIS\", \"401 - BLOXOM\", \"602 - TANGIER\", \"701 - NANDUA\", \"801 - BOBTOWN\", \"601 - ACCOMAC\", \"202 - GREENBACKVILLE\", \"## Provisional\"]}],\n",
       "                        {\"barmode\": \"stack\", \"title\": {\"text\": \"Votes (%) by candidate for: ACCOMACK COUNTY\"}, \"xaxis\": {\"title\": {\"text\": \"% of Vote\"}}, \"yaxis\": {\"automargin\": true, \"title\": {\"text\": \"Precinct ID\"}}},\n",
       "                        {\"showLink\": false, \"linkText\": \"Export to plot.ly\", \"plotlyServerURL\": \"https://plot.ly\", \"responsive\": true}\n",
       "                    ).then(function(){\n",
       "                            \n",
       "var gd = document.getElementById('b95bcbb9-42bf-4ede-8c18-3dda25b6c17c');\n",
       "var x = new MutationObserver(function (mutations, observer) {{\n",
       "        var display = window.getComputedStyle(gd).display;\n",
       "        if (!display || display === 'none') {{\n",
       "            console.log([gd, 'removed!']);\n",
       "            Plotly.purge(gd);\n",
       "            observer.disconnect();\n",
       "        }}\n",
       "}});\n",
       "\n",
       "// Listen for the removal of the full notebook cells\n",
       "var notebookContainer = gd.closest('#notebook-container');\n",
       "if (notebookContainer) {{\n",
       "    x.observe(notebookContainer, {childList: true});\n",
       "}}\n",
       "\n",
       "// Listen for the clearing of the current output cell\n",
       "var outputEl = gd.closest('.output');\n",
       "if (outputEl) {{\n",
       "    x.observe(outputEl, {childList: true});\n",
       "}}\n",
       "\n",
       "                        })\n",
       "                };\n",
       "                });\n",
       "            </script>\n",
       "        </div>"
      ]
     },
     "metadata": {},
     "output_type": "display_data"
    }
   ],
   "source": [
    "jurisdiction_name='ACCOMACK COUNTY'\n",
    "juris_picker(jurisdiction_name)"
   ]
  },
  {
   "cell_type": "code",
   "execution_count": 143,
   "metadata": {},
   "outputs": [
    {
     "data": {
      "application/vnd.plotly.v1+json": {
       "config": {
        "linkText": "Export to plot.ly",
        "plotlyServerURL": "https://plot.ly",
        "responsive": true,
        "showLink": false
       },
       "data": [
        {
         "marker": {
          "color": "blue"
         },
         "name": "Clinton",
         "opacity": 0.6,
         "orientation": "h",
         "type": "bar",
         "uid": "93205891-0740-4133-bc21-c6ddecb7ab8f",
         "x": [
          0.8267622461170848,
          0.7486338797814208,
          0.8006172839506173,
          0.7581423401688782,
          0.6636363636363637,
          0.6986382474837182,
          0.7346521145975443,
          0.6864035087719298,
          0.7258064516129032,
          0.7220630372492837,
          0.7474226804123711,
          0.7359888837424734,
          0.6912928759894459,
          0.6968805179517363,
          0.7401960784313726,
          0.7315985130111524,
          0.7217206585236325,
          0.7245017584994138,
          0.7202072538860104,
          0.7238297872340426,
          0.7548918640576725,
          0.6475707034082668,
          0.6952650748684743,
          0.7435754189944134,
          0.7379392495533056,
          0.7393458870168483,
          0.7241630276564774,
          0.7597597597597597,
          0.6967859308671922,
          0.7785748445719751,
          0.733678086619263,
          0.8029239766081872,
          0.7282741738066095,
          0.646477132262052,
          0.6642670157068062,
          0.6931506849315069,
          0.5945040214477212,
          0.6868008948545862,
          0.6745124411566913,
          0.7972620599739244,
          0.7002032520325203,
          0.6977077363896849,
          0.7333333333333333,
          0.7355096602265156,
          0.8522267206477733,
          0.7776085300837776,
          0.7689393939393939,
          0.7215962441314554,
          0.7939481268011528,
          0.6860119047619048,
          0.7504440497335702,
          0.7034617896799478,
          0.7603143418467584,
          0.7458100558659218
         ],
         "y": [
          "037 - NOTTINGHAM",
          "052 - GUNSTON",
          "013 - GLEN CARLYN",
          "029 - DOMINION HILLS",
          "045 - BUCKINGHAM",
          "019 - ROSSLYN",
          "002 - ASHTON HEIGHTS",
          "009 - COLUMBIA",
          "006 - CRYSTAL CITY",
          "023 - WESTOVER",
          "015 - LYON PARK",
          "011 - EAST FALLS CHURCH",
          "028 - WAKEFIELD",
          "034 - YORKTOWN",
          "004 - BALLSTON",
          "022 - ABINGDON",
          "046 - CENTRAL",
          "044 - DAWSON TERRACE",
          "001 - ARLINGTON",
          "048 - AUSA",
          "032 - OAKRIDGE",
          "039 - ASHLAWN",
          "# AB - Central Absentee Precinct",
          "041 - NAVY LEAGUE",
          "008 - HUME",
          "007 - CHERRYDALE",
          "010 - WILSON",
          "003 - AURORA HILLS",
          "017 - OVERLEE KNOLLS",
          "050 - CRYSTAL PLAZA",
          "027 - JEFFERSON",
          "049 - MONROE",
          "038 - ARLINGTON VIEW",
          "042 - SHIRLINGTON",
          "026 - FILLMORE",
          "014 - CLARENDON",
          "047 - FOUR MILE RUN",
          "020 - THRIFTON",
          "021 - VIRGINIA HIGHLANDS",
          "025 - ARLINGTON FOREST",
          "## Provisional",
          "005 - BARCROFT",
          "033 - ROCK SPRING",
          "016 - LYON VILLAGE",
          "031 - LEXINGTON",
          "012 - FAIRLINGTON",
          "024 - WOODLAWN",
          "035 - MADISON",
          "043 - CAMPBELL",
          "018 - PARK LANE",
          "051 - TAYLOR",
          "036 - MARSHALL",
          "040 - VIRGINIA SQUARE",
          "030 - GLEBE"
         ]
        },
        {
         "marker": {
          "color": "red"
         },
         "name": "Trump",
         "opacity": 0.6,
         "orientation": "h",
         "type": "bar",
         "uid": "bb870b9b-ea3e-4c36-a564-b9feaee18240",
         "x": [
          0.11915571485463959,
          0.16939890710382513,
          0.15123456790123457,
          0.16586248492159228,
          0.22636363636363635,
          0.1906453522794553,
          0.19099590723055934,
          0.24342105263157895,
          0.184863523573201,
          0.19675262655205347,
          0.177319587628866,
          0.17415470125057897,
          0.22867194371152155,
          0.19599764567392583,
          0.20915032679738563,
          0.16654275092936802,
          0.1810939989378651,
          0.18229777256740914,
          0.1940126655152562,
          0.17063829787234042,
          0.16426364572605562,
          0.25018129079042783,
          0.19668150546337515,
          0.15307262569832403,
          0.18463371054198927,
          0.17542120911793854,
          0.21324599708879186,
          0.15958815958815958,
          0.21406913280776227,
          0.15447154471544716,
          0.18164188752424046,
          0.12573099415204678,
          0.19583843329253367,
          0.24969097651421507,
          0.2506544502617801,
          0.21506849315068494,
          0.32707774798927614,
          0.23042505592841164,
          0.24344317417619368,
          0.13298565840938723,
          0.22865853658536586,
          0.19054441260744986,
          0.16289308176100628,
          0.1798800799467022,
          0.11538461538461539,
          0.13480578827113482,
          0.15845959595959597,
          0.1812206572769953,
          0.13904899135446686,
          0.22023809523809523,
          0.15452930728241562,
          0.21097322011757022,
          0.18664047151277013,
          0.16829608938547486
         ],
         "y": [
          "037 - NOTTINGHAM",
          "052 - GUNSTON",
          "013 - GLEN CARLYN",
          "029 - DOMINION HILLS",
          "045 - BUCKINGHAM",
          "019 - ROSSLYN",
          "002 - ASHTON HEIGHTS",
          "009 - COLUMBIA",
          "006 - CRYSTAL CITY",
          "023 - WESTOVER",
          "015 - LYON PARK",
          "011 - EAST FALLS CHURCH",
          "028 - WAKEFIELD",
          "034 - YORKTOWN",
          "004 - BALLSTON",
          "022 - ABINGDON",
          "046 - CENTRAL",
          "044 - DAWSON TERRACE",
          "001 - ARLINGTON",
          "048 - AUSA",
          "032 - OAKRIDGE",
          "039 - ASHLAWN",
          "# AB - Central Absentee Precinct",
          "041 - NAVY LEAGUE",
          "008 - HUME",
          "007 - CHERRYDALE",
          "010 - WILSON",
          "003 - AURORA HILLS",
          "017 - OVERLEE KNOLLS",
          "050 - CRYSTAL PLAZA",
          "027 - JEFFERSON",
          "049 - MONROE",
          "038 - ARLINGTON VIEW",
          "042 - SHIRLINGTON",
          "026 - FILLMORE",
          "014 - CLARENDON",
          "047 - FOUR MILE RUN",
          "020 - THRIFTON",
          "021 - VIRGINIA HIGHLANDS",
          "025 - ARLINGTON FOREST",
          "## Provisional",
          "005 - BARCROFT",
          "033 - ROCK SPRING",
          "016 - LYON VILLAGE",
          "031 - LEXINGTON",
          "012 - FAIRLINGTON",
          "024 - WOODLAWN",
          "035 - MADISON",
          "043 - CAMPBELL",
          "018 - PARK LANE",
          "051 - TAYLOR",
          "036 - MARSHALL",
          "040 - VIRGINIA SQUARE",
          "030 - GLEBE"
         ]
        },
        {
         "marker": {
          "color": "grey"
         },
         "name": "Other",
         "opacity": 0.6,
         "orientation": "h",
         "type": "bar",
         "uid": "5c0e4581-aab7-4364-8ddb-201b42ab187b",
         "x": [
          0.05408203902827559,
          0.08196721311475409,
          0.04814814814814815,
          0.07599517490952955,
          0.11,
          0.11071640023682652,
          0.07435197817189632,
          0.07017543859649122,
          0.08933002481389578,
          0.08118433619866285,
          0.07525773195876288,
          0.08985641500694766,
          0.08003518029903255,
          0.10712183637433785,
          0.05065359477124183,
          0.10185873605947955,
          0.09718534253850239,
          0.09320046893317702,
          0.08578008059873345,
          0.10553191489361702,
          0.08084449021627188,
          0.10224800580130529,
          0.10805341966815055,
          0.10335195530726257,
          0.07742703990470517,
          0.08523290386521308,
          0.06259097525473072,
          0.08065208065208065,
          0.08914493632504548,
          0.06695361071257772,
          0.08468002585649645,
          0.07134502923976609,
          0.07588739290085679,
          0.103831891223733,
          0.08507853403141362,
          0.09178082191780822,
          0.07841823056300268,
          0.08277404921700224,
          0.082044384667115,
          0.0697522816166884,
          0.07113821138211382,
          0.11174785100286533,
          0.10377358490566038,
          0.08461025982678215,
          0.032388663967611336,
          0.08758568164508758,
          0.0726010101010101,
          0.09718309859154929,
          0.0670028818443804,
          0.09375,
          0.09502664298401421,
          0.08556499020248204,
          0.05304518664047151,
          0.08589385474860335
         ],
         "y": [
          "037 - NOTTINGHAM",
          "052 - GUNSTON",
          "013 - GLEN CARLYN",
          "029 - DOMINION HILLS",
          "045 - BUCKINGHAM",
          "019 - ROSSLYN",
          "002 - ASHTON HEIGHTS",
          "009 - COLUMBIA",
          "006 - CRYSTAL CITY",
          "023 - WESTOVER",
          "015 - LYON PARK",
          "011 - EAST FALLS CHURCH",
          "028 - WAKEFIELD",
          "034 - YORKTOWN",
          "004 - BALLSTON",
          "022 - ABINGDON",
          "046 - CENTRAL",
          "044 - DAWSON TERRACE",
          "001 - ARLINGTON",
          "048 - AUSA",
          "032 - OAKRIDGE",
          "039 - ASHLAWN",
          "# AB - Central Absentee Precinct",
          "041 - NAVY LEAGUE",
          "008 - HUME",
          "007 - CHERRYDALE",
          "010 - WILSON",
          "003 - AURORA HILLS",
          "017 - OVERLEE KNOLLS",
          "050 - CRYSTAL PLAZA",
          "027 - JEFFERSON",
          "049 - MONROE",
          "038 - ARLINGTON VIEW",
          "042 - SHIRLINGTON",
          "026 - FILLMORE",
          "014 - CLARENDON",
          "047 - FOUR MILE RUN",
          "020 - THRIFTON",
          "021 - VIRGINIA HIGHLANDS",
          "025 - ARLINGTON FOREST",
          "## Provisional",
          "005 - BARCROFT",
          "033 - ROCK SPRING",
          "016 - LYON VILLAGE",
          "031 - LEXINGTON",
          "012 - FAIRLINGTON",
          "024 - WOODLAWN",
          "035 - MADISON",
          "043 - CAMPBELL",
          "018 - PARK LANE",
          "051 - TAYLOR",
          "036 - MARSHALL",
          "040 - VIRGINIA SQUARE",
          "030 - GLEBE"
         ]
        }
       ],
       "layout": {
        "barmode": "stack",
        "title": {
         "text": "Votes (%) by candidate for: ARLINGTON COUNTY"
        },
        "xaxis": {
         "title": {
          "text": "% of Vote"
         }
        },
        "yaxis": {
         "automargin": true,
         "title": {
          "text": "Precinct ID"
         }
        }
       }
      },
      "text/html": [
       "<div>\n",
       "        \n",
       "        \n",
       "            <div id=\"587ffa47-8309-4a62-8509-844e15439c13\" class=\"plotly-graph-div\" style=\"height:525px; width:100%;\"></div>\n",
       "            <script type=\"text/javascript\">\n",
       "                require([\"plotly\"], function(Plotly) {\n",
       "                    window.PLOTLYENV=window.PLOTLYENV || {};\n",
       "                    window.PLOTLYENV.BASE_URL='https://plot.ly';\n",
       "                    \n",
       "                if (document.getElementById(\"587ffa47-8309-4a62-8509-844e15439c13\")) {\n",
       "                    Plotly.newPlot(\n",
       "                        '587ffa47-8309-4a62-8509-844e15439c13',\n",
       "                        [{\"marker\": {\"color\": \"blue\"}, \"name\": \"Clinton\", \"opacity\": 0.6, \"orientation\": \"h\", \"type\": \"bar\", \"uid\": \"9f10761e-52ee-4902-ae40-36e608718092\", \"x\": [0.8267622461170848, 0.7486338797814208, 0.8006172839506173, 0.7581423401688782, 0.6636363636363637, 0.6986382474837182, 0.7346521145975443, 0.6864035087719298, 0.7258064516129032, 0.7220630372492837, 0.7474226804123711, 0.7359888837424734, 0.6912928759894459, 0.6968805179517363, 0.7401960784313726, 0.7315985130111524, 0.7217206585236325, 0.7245017584994138, 0.7202072538860104, 0.7238297872340426, 0.7548918640576725, 0.6475707034082668, 0.6952650748684743, 0.7435754189944134, 0.7379392495533056, 0.7393458870168483, 0.7241630276564774, 0.7597597597597597, 0.6967859308671922, 0.7785748445719751, 0.733678086619263, 0.8029239766081872, 0.7282741738066095, 0.646477132262052, 0.6642670157068062, 0.6931506849315069, 0.5945040214477212, 0.6868008948545862, 0.6745124411566913, 0.7972620599739244, 0.7002032520325203, 0.6977077363896849, 0.7333333333333333, 0.7355096602265156, 0.8522267206477733, 0.7776085300837776, 0.7689393939393939, 0.7215962441314554, 0.7939481268011528, 0.6860119047619048, 0.7504440497335702, 0.7034617896799478, 0.7603143418467584, 0.7458100558659218], \"y\": [\"037 - NOTTINGHAM\", \"052 - GUNSTON\", \"013 - GLEN CARLYN\", \"029 - DOMINION HILLS\", \"045 - BUCKINGHAM\", \"019 - ROSSLYN\", \"002 - ASHTON HEIGHTS\", \"009 - COLUMBIA\", \"006 - CRYSTAL CITY\", \"023 - WESTOVER\", \"015 - LYON PARK\", \"011 - EAST FALLS CHURCH\", \"028 - WAKEFIELD\", \"034 - YORKTOWN\", \"004 - BALLSTON\", \"022 - ABINGDON\", \"046 - CENTRAL\", \"044 - DAWSON TERRACE\", \"001 - ARLINGTON\", \"048 - AUSA\", \"032 - OAKRIDGE\", \"039 - ASHLAWN\", \"# AB - Central Absentee Precinct\", \"041 - NAVY LEAGUE\", \"008 - HUME\", \"007 - CHERRYDALE\", \"010 - WILSON\", \"003 - AURORA HILLS\", \"017 - OVERLEE KNOLLS\", \"050 - CRYSTAL PLAZA\", \"027 - JEFFERSON\", \"049 - MONROE\", \"038 - ARLINGTON VIEW\", \"042 - SHIRLINGTON\", \"026 - FILLMORE\", \"014 - CLARENDON\", \"047 - FOUR MILE RUN\", \"020 - THRIFTON\", \"021 - VIRGINIA HIGHLANDS\", \"025 - ARLINGTON FOREST\", \"## Provisional\", \"005 - BARCROFT\", \"033 - ROCK SPRING\", \"016 - LYON VILLAGE\", \"031 - LEXINGTON\", \"012 - FAIRLINGTON\", \"024 - WOODLAWN\", \"035 - MADISON\", \"043 - CAMPBELL\", \"018 - PARK LANE\", \"051 - TAYLOR\", \"036 - MARSHALL\", \"040 - VIRGINIA SQUARE\", \"030 - GLEBE\"]}, {\"marker\": {\"color\": \"red\"}, \"name\": \"Trump\", \"opacity\": 0.6, \"orientation\": \"h\", \"type\": \"bar\", \"uid\": \"4dcb5566-5fa9-4f31-87e6-4b4260a1dc87\", \"x\": [0.11915571485463959, 0.16939890710382513, 0.15123456790123457, 0.16586248492159228, 0.22636363636363635, 0.1906453522794553, 0.19099590723055934, 0.24342105263157895, 0.184863523573201, 0.19675262655205347, 0.177319587628866, 0.17415470125057897, 0.22867194371152155, 0.19599764567392583, 0.20915032679738563, 0.16654275092936802, 0.1810939989378651, 0.18229777256740914, 0.1940126655152562, 0.17063829787234042, 0.16426364572605562, 0.25018129079042783, 0.19668150546337515, 0.15307262569832403, 0.18463371054198927, 0.17542120911793854, 0.21324599708879186, 0.15958815958815958, 0.21406913280776227, 0.15447154471544716, 0.18164188752424046, 0.12573099415204678, 0.19583843329253367, 0.24969097651421507, 0.2506544502617801, 0.21506849315068494, 0.32707774798927614, 0.23042505592841164, 0.24344317417619368, 0.13298565840938723, 0.22865853658536586, 0.19054441260744986, 0.16289308176100628, 0.1798800799467022, 0.11538461538461539, 0.13480578827113482, 0.15845959595959597, 0.1812206572769953, 0.13904899135446686, 0.22023809523809523, 0.15452930728241562, 0.21097322011757022, 0.18664047151277013, 0.16829608938547486], \"y\": [\"037 - NOTTINGHAM\", \"052 - GUNSTON\", \"013 - GLEN CARLYN\", \"029 - DOMINION HILLS\", \"045 - BUCKINGHAM\", \"019 - ROSSLYN\", \"002 - ASHTON HEIGHTS\", \"009 - COLUMBIA\", \"006 - CRYSTAL CITY\", \"023 - WESTOVER\", \"015 - LYON PARK\", \"011 - EAST FALLS CHURCH\", \"028 - WAKEFIELD\", \"034 - YORKTOWN\", \"004 - BALLSTON\", \"022 - ABINGDON\", \"046 - CENTRAL\", \"044 - DAWSON TERRACE\", \"001 - ARLINGTON\", \"048 - AUSA\", \"032 - OAKRIDGE\", \"039 - ASHLAWN\", \"# AB - Central Absentee Precinct\", \"041 - NAVY LEAGUE\", \"008 - HUME\", \"007 - CHERRYDALE\", \"010 - WILSON\", \"003 - AURORA HILLS\", \"017 - OVERLEE KNOLLS\", \"050 - CRYSTAL PLAZA\", \"027 - JEFFERSON\", \"049 - MONROE\", \"038 - ARLINGTON VIEW\", \"042 - SHIRLINGTON\", \"026 - FILLMORE\", \"014 - CLARENDON\", \"047 - FOUR MILE RUN\", \"020 - THRIFTON\", \"021 - VIRGINIA HIGHLANDS\", \"025 - ARLINGTON FOREST\", \"## Provisional\", \"005 - BARCROFT\", \"033 - ROCK SPRING\", \"016 - LYON VILLAGE\", \"031 - LEXINGTON\", \"012 - FAIRLINGTON\", \"024 - WOODLAWN\", \"035 - MADISON\", \"043 - CAMPBELL\", \"018 - PARK LANE\", \"051 - TAYLOR\", \"036 - MARSHALL\", \"040 - VIRGINIA SQUARE\", \"030 - GLEBE\"]}, {\"marker\": {\"color\": \"grey\"}, \"name\": \"Other\", \"opacity\": 0.6, \"orientation\": \"h\", \"type\": \"bar\", \"uid\": \"c1485855-1016-46fe-a746-6c88084b1f90\", \"x\": [0.05408203902827559, 0.08196721311475409, 0.04814814814814815, 0.07599517490952955, 0.11, 0.11071640023682652, 0.07435197817189632, 0.07017543859649122, 0.08933002481389578, 0.08118433619866285, 0.07525773195876288, 0.08985641500694766, 0.08003518029903255, 0.10712183637433785, 0.05065359477124183, 0.10185873605947955, 0.09718534253850239, 0.09320046893317702, 0.08578008059873345, 0.10553191489361702, 0.08084449021627188, 0.10224800580130529, 0.10805341966815055, 0.10335195530726257, 0.07742703990470517, 0.08523290386521308, 0.06259097525473072, 0.08065208065208065, 0.08914493632504548, 0.06695361071257772, 0.08468002585649645, 0.07134502923976609, 0.07588739290085679, 0.103831891223733, 0.08507853403141362, 0.09178082191780822, 0.07841823056300268, 0.08277404921700224, 0.082044384667115, 0.0697522816166884, 0.07113821138211382, 0.11174785100286533, 0.10377358490566038, 0.08461025982678215, 0.032388663967611336, 0.08758568164508758, 0.0726010101010101, 0.09718309859154929, 0.0670028818443804, 0.09375, 0.09502664298401421, 0.08556499020248204, 0.05304518664047151, 0.08589385474860335], \"y\": [\"037 - NOTTINGHAM\", \"052 - GUNSTON\", \"013 - GLEN CARLYN\", \"029 - DOMINION HILLS\", \"045 - BUCKINGHAM\", \"019 - ROSSLYN\", \"002 - ASHTON HEIGHTS\", \"009 - COLUMBIA\", \"006 - CRYSTAL CITY\", \"023 - WESTOVER\", \"015 - LYON PARK\", \"011 - EAST FALLS CHURCH\", \"028 - WAKEFIELD\", \"034 - YORKTOWN\", \"004 - BALLSTON\", \"022 - ABINGDON\", \"046 - CENTRAL\", \"044 - DAWSON TERRACE\", \"001 - ARLINGTON\", \"048 - AUSA\", \"032 - OAKRIDGE\", \"039 - ASHLAWN\", \"# AB - Central Absentee Precinct\", \"041 - NAVY LEAGUE\", \"008 - HUME\", \"007 - CHERRYDALE\", \"010 - WILSON\", \"003 - AURORA HILLS\", \"017 - OVERLEE KNOLLS\", \"050 - CRYSTAL PLAZA\", \"027 - JEFFERSON\", \"049 - MONROE\", \"038 - ARLINGTON VIEW\", \"042 - SHIRLINGTON\", \"026 - FILLMORE\", \"014 - CLARENDON\", \"047 - FOUR MILE RUN\", \"020 - THRIFTON\", \"021 - VIRGINIA HIGHLANDS\", \"025 - ARLINGTON FOREST\", \"## Provisional\", \"005 - BARCROFT\", \"033 - ROCK SPRING\", \"016 - LYON VILLAGE\", \"031 - LEXINGTON\", \"012 - FAIRLINGTON\", \"024 - WOODLAWN\", \"035 - MADISON\", \"043 - CAMPBELL\", \"018 - PARK LANE\", \"051 - TAYLOR\", \"036 - MARSHALL\", \"040 - VIRGINIA SQUARE\", \"030 - GLEBE\"]}],\n",
       "                        {\"barmode\": \"stack\", \"title\": {\"text\": \"Votes (%) by candidate for: ARLINGTON COUNTY\"}, \"xaxis\": {\"title\": {\"text\": \"% of Vote\"}}, \"yaxis\": {\"automargin\": true, \"title\": {\"text\": \"Precinct ID\"}}},\n",
       "                        {\"showLink\": false, \"linkText\": \"Export to plot.ly\", \"plotlyServerURL\": \"https://plot.ly\", \"responsive\": true}\n",
       "                    ).then(function(){\n",
       "                            \n",
       "var gd = document.getElementById('587ffa47-8309-4a62-8509-844e15439c13');\n",
       "var x = new MutationObserver(function (mutations, observer) {{\n",
       "        var display = window.getComputedStyle(gd).display;\n",
       "        if (!display || display === 'none') {{\n",
       "            console.log([gd, 'removed!']);\n",
       "            Plotly.purge(gd);\n",
       "            observer.disconnect();\n",
       "        }}\n",
       "}});\n",
       "\n",
       "// Listen for the removal of the full notebook cells\n",
       "var notebookContainer = gd.closest('#notebook-container');\n",
       "if (notebookContainer) {{\n",
       "    x.observe(notebookContainer, {childList: true});\n",
       "}}\n",
       "\n",
       "// Listen for the clearing of the current output cell\n",
       "var outputEl = gd.closest('.output');\n",
       "if (outputEl) {{\n",
       "    x.observe(outputEl, {childList: true});\n",
       "}}\n",
       "\n",
       "                        })\n",
       "                };\n",
       "                });\n",
       "            </script>\n",
       "        </div>"
      ]
     },
     "metadata": {},
     "output_type": "display_data"
    }
   ],
   "source": [
    "jurisdiction_name='ARLINGTON COUNTY'\n",
    "juris_picker(jurisdiction_name)"
   ]
  },
  {
   "cell_type": "code",
   "execution_count": null,
   "metadata": {},
   "outputs": [],
   "source": []
  },
  {
   "cell_type": "code",
   "execution_count": null,
   "metadata": {},
   "outputs": [],
   "source": []
  },
  {
   "cell_type": "code",
   "execution_count": null,
   "metadata": {},
   "outputs": [],
   "source": []
  }
 ],
 "metadata": {
  "kernelspec": {
   "display_name": "Python 3",
   "language": "python",
   "name": "python3"
  },
  "language_info": {
   "codemirror_mode": {
    "name": "ipython",
    "version": 3
   },
   "file_extension": ".py",
   "mimetype": "text/x-python",
   "name": "python",
   "nbconvert_exporter": "python",
   "pygments_lexer": "ipython3",
   "version": "3.7.3"
  }
 },
 "nbformat": 4,
 "nbformat_minor": 2
}
